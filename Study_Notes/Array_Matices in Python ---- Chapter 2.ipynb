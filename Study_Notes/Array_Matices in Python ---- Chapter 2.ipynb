{
 "cells": [
  {
   "cell_type": "code",
   "execution_count": null,
   "metadata": {},
   "outputs": [],
   "source": [
    "#-----------------Python Arrays and Matrices------------------------"
   ]
  },
  {
   "cell_type": "code",
   "execution_count": 11,
   "metadata": {},
   "outputs": [
    {
     "name": "stdout",
     "output_type": "stream",
     "text": [
      "['Ford', 'Volvo', 'BMW']\n"
     ]
    }
   ],
   "source": [
    "#--------Arrays--------------\n",
    "#Create an array\n",
    "cars = [\"Ford\", \"Volvo\", \"BMW\"]\n",
    "#print the array\n",
    "print(cars)"
   ]
  },
  {
   "cell_type": "code",
   "execution_count": 12,
   "metadata": {},
   "outputs": [
    {
     "name": "stdout",
     "output_type": "stream",
     "text": [
      "Ford\n"
     ]
    }
   ],
   "source": [
    "#2.Extracting an element from array\n",
    "print(cars[0])"
   ]
  },
  {
   "cell_type": "code",
   "execution_count": 13,
   "metadata": {},
   "outputs": [
    {
     "name": "stdout",
     "output_type": "stream",
     "text": [
      "['Toyota', 'Volvo', 'BMW']\n"
     ]
    }
   ],
   "source": [
    "#3.Replacing an element in array with some other\n",
    "cars[0] = \"Toyota\"\n",
    "print(cars)"
   ]
  },
  {
   "cell_type": "code",
   "execution_count": 14,
   "metadata": {},
   "outputs": [
    {
     "data": {
      "text/plain": [
       "3"
      ]
     },
     "execution_count": 14,
     "metadata": {},
     "output_type": "execute_result"
    }
   ],
   "source": [
    "#4.Length of the array.cars = [\"Ford\", \"Volvo\", \"BMW\"]\n",
    "len(cars)"
   ]
  },
  {
   "cell_type": "code",
   "execution_count": 15,
   "metadata": {},
   "outputs": [
    {
     "name": "stdout",
     "output_type": "stream",
     "text": [
      "Toyota\n",
      "Volvo\n",
      "BMW\n"
     ]
    }
   ],
   "source": [
    "#5.Looping an array\n",
    "for x in cars:\n",
    "  print(x)"
   ]
  },
  {
   "cell_type": "code",
   "execution_count": 16,
   "metadata": {},
   "outputs": [
    {
     "name": "stdout",
     "output_type": "stream",
     "text": [
      "['Toyota', 'Volvo', 'BMW', 'Honda']\n"
     ]
    }
   ],
   "source": [
    "#5.Adding elements in an array\n",
    "cars.append(\"Honda\")\n",
    "print(cars)"
   ]
  },
  {
   "cell_type": "code",
   "execution_count": 17,
   "metadata": {},
   "outputs": [
    {
     "name": "stdout",
     "output_type": "stream",
     "text": [
      "['Toyota', 'BMW', 'Honda']\n",
      "['Toyota', 'BMW']\n"
     ]
    }
   ],
   "source": [
    "#6.Removing elements from an array\n",
    "cars.pop(1)\n",
    "print(cars)\n",
    "#remove function \n",
    "cars.remove(\"Honda\")\n",
    "print(cars)"
   ]
  },
  {
   "cell_type": "code",
   "execution_count": 18,
   "metadata": {},
   "outputs": [
    {
     "data": {
      "text/plain": [
       "1"
      ]
     },
     "execution_count": 18,
     "metadata": {},
     "output_type": "execute_result"
    }
   ],
   "source": [
    "#7.Find the index of an element\n",
    "cars.index(\"BMW\")"
   ]
  },
  {
   "cell_type": "code",
   "execution_count": 21,
   "metadata": {},
   "outputs": [
    {
     "name": "stdout",
     "output_type": "stream",
     "text": [
      "['BMW', 'Toyota']\n"
     ]
    }
   ],
   "source": [
    "#8.Reverse an array\n",
    "cars.reverse()\n",
    "print(cars)"
   ]
  },
  {
   "cell_type": "code",
   "execution_count": 22,
   "metadata": {},
   "outputs": [
    {
     "name": "stdout",
     "output_type": "stream",
     "text": [
      "['Ford', 'Volvo', 'BMW', 'Honda']\n",
      "['BMW', 'Ford', 'Honda', 'Volvo']\n"
     ]
    }
   ],
   "source": [
    "#9.Sorting the array\n",
    "cars2 = [\"Ford\", \"Volvo\", \"BMW\",\"Honda\"]\n",
    "print(cars2)\n",
    "cars2.sort()\n",
    "print(cars2)"
   ]
  },
  {
   "cell_type": "code",
   "execution_count": 23,
   "metadata": {},
   "outputs": [],
   "source": [
    "#------------------------------------MATRICES IN PYTHON--------------------------------------------------"
   ]
  },
  {
   "cell_type": "code",
   "execution_count": 24,
   "metadata": {},
   "outputs": [
    {
     "name": "stdout",
     "output_type": "stream",
     "text": [
      "A = [[1, 4, 5, 12], [-5, 8, 9, 0], [-6, 7, 11, 19]]\n",
      "A[1] = [-5, 8, 9, 0]\n",
      "A[1][2] = 9\n",
      "A[0][-1] = 12\n",
      "3rd column = [5, 9, 11]\n"
     ]
    }
   ],
   "source": [
    "#A matrix is a two-dimensional data structure where numbers are arranged into rows and columns.\n",
    "#Python doesn't have a built-in type for matrices. However, we can treat list of a list as a matrix.\n",
    "A = [[1, 4, 5, 12], \n",
    "    [-5, 8, 9, 0],\n",
    "    [-6, 7, 11, 19]]\n",
    "print(\"A =\", A) \n",
    "print(\"A[1] =\", A[1])      # 2nd row\n",
    "print(\"A[1][2] =\", A[1][2])   # 3rd element of 2nd row\n",
    "print(\"A[0][-1] =\", A[0][-1])   # Last element of 1st Row\n",
    "column = [];        # empty list\n",
    "for row in A:\n",
    "  column.append(row[2])   \n",
    "print(\"3rd column =\", column)"
   ]
  },
  {
   "cell_type": "code",
   "execution_count": 25,
   "metadata": {},
   "outputs": [
    {
     "name": "stdout",
     "output_type": "stream",
     "text": [
      "[1 2 3]\n",
      "<class 'numpy.ndarray'>\n"
     ]
    }
   ],
   "source": [
    "#NumPy is a package for scientific computing which has support for a powerful N-dimensional array object.\n",
    "import numpy as np\n",
    "a = np.array([1, 2, 3])\n",
    "print(a)               \n",
    "print(type(a)) "
   ]
  },
  {
   "cell_type": "code",
   "execution_count": 26,
   "metadata": {},
   "outputs": [
    {
     "name": "stdout",
     "output_type": "stream",
     "text": [
      "[[1 2 3]\n",
      " [3 4 5]]\n",
      "[[1.1 2.  3. ]\n",
      " [3.  4.  5. ]]\n",
      "[[1.+0.j 2.+0.j 3.+0.j]\n",
      " [3.+0.j 4.+0.j 5.+0.j]]\n"
     ]
    }
   ],
   "source": [
    "#An array of Integers, floats and complex numbers\n",
    "A = np.array([[1, 2, 3], [3, 4, 5]])\n",
    "print(A)\n",
    "A = np.array([[1.1, 2, 3], [3, 4, 5]]) # Array of floats\n",
    "print(A)\n",
    "A = np.array([[1, 2, 3], [3, 4, 5]], dtype = complex) # Array of complex numbers\n",
    "print(A)"
   ]
  },
  {
   "cell_type": "code",
   "execution_count": 28,
   "metadata": {},
   "outputs": [
    {
     "name": "stdout",
     "output_type": "stream",
     "text": [
      "[[0. 0. 0.]\n",
      " [0. 0. 0.]]\n",
      "[[1 1 1 1 1]]\n"
     ]
    }
   ],
   "source": [
    "#Arrays of 0's and 1's\n",
    "import numpy as np\n",
    "zeors_array = np.zeros( (2, 3) )\n",
    "print(zeors_array)\n",
    "ones_array = np.ones( (1, 5), dtype=np.int32 )\n",
    "print(ones_array)  "
   ]
  },
  {
   "cell_type": "code",
   "execution_count": 29,
   "metadata": {},
   "outputs": [
    {
     "name": "stdout",
     "output_type": "stream",
     "text": [
      "A = [0 1 2 3]\n",
      "B = [[ 0  1  2  3  4  5]\n",
      " [ 6  7  8  9 10 11]]\n"
     ]
    }
   ],
   "source": [
    "#Using arrange and shape\n",
    "import numpy as np\n",
    "A = np.arange(4)\n",
    "print('A =', A)\n",
    "B = np.arange(12).reshape(2, 6)\n",
    "print('B =', B)"
   ]
  },
  {
   "cell_type": "code",
   "execution_count": 30,
   "metadata": {},
   "outputs": [
    {
     "name": "stdout",
     "output_type": "stream",
     "text": [
      "[[11  1]\n",
      " [ 8  0]]\n",
      "[14 -6]\n",
      "[[ 1  2  3]\n",
      " [ 1  1 -3]]\n"
     ]
    }
   ],
   "source": [
    "#Matrix operations\n",
    "#1.Addition \n",
    "A = np.array([[2, 4], [5, -6]])\n",
    "B = np.array([[9, -3], [3, 6]])\n",
    "C = A + B      # element wise addition\n",
    "print(C)\n",
    "#2.Multiplications\n",
    "A = np.array([[3, 6, 7], [5, -3, 0]])\n",
    "B = np.array([[1, 1], [2, 1], [3, -3]])\n",
    "C = a.dot(B)\n",
    "print(C)\n",
    "#3.Transpose\n",
    "A = np.array([[1, 1], [2, 1], [3, -3]])\n",
    "print(A.transpose())"
   ]
  },
  {
   "cell_type": "code",
   "execution_count": 32,
   "metadata": {},
   "outputs": [
    {
     "name": "stdout",
     "output_type": "stream",
     "text": [
      "A[0] = 2\n",
      "A[2] = 6\n",
      "A[-1] = 10\n"
     ]
    }
   ],
   "source": [
    "#Access matrix elements, rows, columns\n",
    "A = np.array([2, 4, 6, 8, 10])\n",
    "print(\"A[0] =\", A[0])         \n",
    "print(\"A[2] =\", A[2])     \n",
    "print(\"A[-1] =\", A[-1])"
   ]
  },
  {
   "cell_type": "code",
   "execution_count": 33,
   "metadata": {},
   "outputs": [
    {
     "name": "stdout",
     "output_type": "stream",
     "text": [
      "A[0][0] = 1\n",
      "A[1][2] = 9\n",
      "A[-1][-1] = 19\n"
     ]
    }
   ],
   "source": [
    "A = np.array([[1, 4, 5, 12],\n",
    "    [-5, 8, 9, 0],\n",
    "    [-6, 7, 11, 19]])\n",
    "#  First element of first row\n",
    "print(\"A[0][0] =\", A[0][0])  \n",
    "# Third element of second row\n",
    "print(\"A[1][2] =\", A[1][2])\n",
    "# Last element of last row\n",
    "print(\"A[-1][-1] =\", A[-1][-1])    "
   ]
  },
  {
   "cell_type": "code",
   "execution_count": 34,
   "metadata": {},
   "outputs": [
    {
     "name": "stdout",
     "output_type": "stream",
     "text": [
      "A[0] = [ 1  4  5 12]\n",
      "A[2] = [-6  7 11 19]\n",
      "A[-1] = [-6  7 11 19]\n"
     ]
    }
   ],
   "source": [
    "A = np.array([[1, 4, 5, 12], \n",
    "    [-5, 8, 9, 0],\n",
    "    [-6, 7, 11, 19]])\n",
    "print(\"A[0] =\", A[0]) # First Row\n",
    "print(\"A[2] =\", A[2]) # Third Row\n",
    "print(\"A[-1] =\", A[-1]) # Last Row (3rd row in this case)"
   ]
  },
  {
   "cell_type": "code",
   "execution_count": 35,
   "metadata": {},
   "outputs": [
    {
     "name": "stdout",
     "output_type": "stream",
     "text": [
      "A[:,0] = [ 1 -5 -6]\n",
      "A[:,3] = [12  0 19]\n",
      "A[:,-1] = [12  0 19]\n"
     ]
    }
   ],
   "source": [
    "A = np.array([[1, 4, 5, 12], \n",
    "    [-5, 8, 9, 0],\n",
    "    [-6, 7, 11, 19]])\n",
    "print(\"A[:,0] =\",A[:,0]) # First Column\n",
    "print(\"A[:,3] =\", A[:,3]) # Fourth Column\n",
    "print(\"A[:,-1] =\", A[:,-1]) # Last Column (4th column in this case)"
   ]
  },
  {
   "cell_type": "code",
   "execution_count": 36,
   "metadata": {},
   "outputs": [
    {
     "name": "stdout",
     "output_type": "stream",
     "text": [
      "[5 7 9]\n",
      "[1 3]\n",
      "[7 5]\n",
      "[1 3 5 7 9 7 5]\n",
      "[5 7 9 7 5 3 1]\n"
     ]
    }
   ],
   "source": [
    "#Slicing of an array is similar to that of list.We will be performing array slicing on a 1D and 2D array\n",
    "letters = np.array([1, 3, 5, 7, 9, 7, 5])\n",
    "# 3rd to 5th elements\n",
    "print(letters[2:5])        # Output: [5, 7, 9]\n",
    "# 1st to 4th elements\n",
    "print(letters[:-5])        # Output: [1, 3]   \n",
    "# 6th to last elements\n",
    "print(letters[5:])         # Output:[7, 5]\n",
    "# 1st to last elements\n",
    "print(letters[:])          # Output:[1, 3, 5, 7, 9, 7, 5]\n",
    "# reversing a list\n",
    "print(letters[::-1])          # Output:[5, 7, 9, 7, 5, 3, 1]"
   ]
  },
  {
   "cell_type": "code",
   "execution_count": 37,
   "metadata": {},
   "outputs": [
    {
     "name": "stdout",
     "output_type": "stream",
     "text": [
      "[[ 1  4  5 12]\n",
      " [-5  8  9  0]]\n",
      "[[ 1  4  5 12 14]]\n",
      "[ 5  9 11]\n",
      "[[ 5 12 14]\n",
      " [ 9  0 17]\n",
      " [11 19 21]]\n"
     ]
    }
   ],
   "source": [
    "A = np.array([[1, 4, 5, 12, 14], \n",
    "    [-5, 8, 9, 0, 17],\n",
    "    [-6, 7, 11, 19, 21]])\n",
    "print(A[:2, :4])  # two rows, four columns\n",
    "print(A[:1,])  # first row, all columns\n",
    "print(A[:,2])  # all rows, second column\n",
    "print(A[:, 2:5])  # all rows, third to fifth column"
   ]
  }
 ],
 "metadata": {
  "kernelspec": {
   "display_name": "Python 3",
   "language": "python",
   "name": "python3"
  },
  "language_info": {
   "codemirror_mode": {
    "name": "ipython",
    "version": 3
   },
   "file_extension": ".py",
   "mimetype": "text/x-python",
   "name": "python",
   "nbconvert_exporter": "python",
   "pygments_lexer": "ipython3",
   "version": "3.7.1"
  }
 },
 "nbformat": 4,
 "nbformat_minor": 2
}
