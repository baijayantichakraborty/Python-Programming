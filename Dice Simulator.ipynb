{
 "cells": [
  {
   "cell_type": "code",
   "execution_count": 1,
   "metadata": {},
   "outputs": [],
   "source": [
    "#The Goal: Like the title suggests, this project involves writing a program that simulates rolling dice. \n",
    "#When the program runs, it will randomly choose a number between 1 and 6. (Or whatever other integer you prefer — the number of sides on the die is up to you.) \n",
    "#The program will print what that number is. It should then ask you if you’d like to roll again. For this project, you’ll need to set the min and max number that your dice can produce. \n",
    "#For the average die, that means a minimum of 1 and a maximum of 6. \n",
    "#You’ll also want a function that randomly grabs a number within that range and prints it."
   ]
  },
  {
   "cell_type": "code",
   "execution_count": 40,
   "metadata": {
    "scrolled": false
   },
   "outputs": [
    {
     "name": "stdout",
     "output_type": "stream",
     "text": [
      "The dice rolled and you get :  2\n",
      "Do you want to roll the dice again ? y/n : y\n",
      "The dice is rolling....\n",
      "The dice rolled and you get :  1\n"
     ]
    }
   ],
   "source": [
    "import numpy as np\n",
    "import random\n",
    "\n",
    "#roll the dice for once\n",
    "roll_dice1 = random.randint(1,6)\n",
    "print(\"The dice rolled and you get : \" ,roll_dice1)\n",
    "if(roll_dice1 == 6):\n",
    "    print(\"You got \" , \"6\", \"roll the dice again ....\")\n",
    "    myDice()\n",
    "    \n",
    "#make a function\n",
    "def myDice():\n",
    "#roll the dice in the function\n",
    "    count = 0\n",
    "    roll_dice = random.randint(1,6)\n",
    "    print(\"The dice rolled and you get : \",roll_dice)\n",
    "    if(roll_dice == 6):\n",
    "        count = count + 1\n",
    "        if(count == 3):\n",
    "            print(\"You lost your chance !! you got 6 ,3 consecutive chances. \")\n",
    "        else:\n",
    "            print(\"You got \", \"6\", \"roll the dice again ....\")\n",
    "            myDice()\n",
    "\n",
    "repeat = (input(\"Do you want to roll the dice again ? y/n : \")).lower()\n",
    "if(repeat == 'y'):\n",
    "    print(\"The dice is rolling....\")\n",
    "    myDice()\n",
    "\n",
    "    \n",
    "\n",
    "    "
   ]
  },
  {
   "cell_type": "code",
   "execution_count": null,
   "metadata": {},
   "outputs": [],
   "source": []
  },
  {
   "cell_type": "code",
   "execution_count": null,
   "metadata": {},
   "outputs": [],
   "source": []
  }
 ],
 "metadata": {
  "kernelspec": {
   "display_name": "Python 3",
   "language": "python",
   "name": "python3"
  },
  "language_info": {
   "codemirror_mode": {
    "name": "ipython",
    "version": 3
   },
   "file_extension": ".py",
   "mimetype": "text/x-python",
   "name": "python",
   "nbconvert_exporter": "python",
   "pygments_lexer": "ipython3",
   "version": "3.7.1"
  }
 },
 "nbformat": 4,
 "nbformat_minor": 2
}
