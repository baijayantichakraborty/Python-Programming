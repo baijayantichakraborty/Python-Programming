{
 "cells": [
  {
   "cell_type": "code",
   "execution_count": 2,
   "metadata": {},
   "outputs": [
    {
     "name": "stdout",
     "output_type": "stream",
     "text": [
      "The element at  0 is  2\n",
      "The element at  1 is  3\n",
      "The element at  2 is  4\n",
      "The element at  3 is  1\n",
      "The element at  4 is  5\n"
     ]
    }
   ],
   "source": [
    "#Write a program to create an array of 5 integers and display them along with the indexes.\n",
    "import numpy as np\n",
    "a = [2,3,4,1,5]\n",
    "for i in range(5):\n",
    "    print(\"The element at \" , i , \"is \" , a[i])\n"
   ]
  },
  {
   "cell_type": "raw",
   "metadata": {},
   "source": []
  },
  {
   "cell_type": "code",
   "execution_count": 14,
   "metadata": {},
   "outputs": [
    {
     "name": "stdout",
     "output_type": "stream",
     "text": [
      "Original array is :  array('i', [1, 3, 5, 7, 9])\n",
      "New array is :  array('i', [1, 3, 5, 7, 9, 11])\n"
     ]
    }
   ],
   "source": [
    "# Write a Python program to append a new item to the end of the array.\n",
    "import numpy as np\n",
    "from array import *\n",
    "array_num = array('i',[1,3,5,7,9])\n",
    "print (\"Original array is : \" ,array_num)\n",
    "array_num.append(11)\n",
    "print (\"New array is : \" ,array_num)"
   ]
  },
  {
   "cell_type": "code",
   "execution_count": 72,
   "metadata": {},
   "outputs": [
    {
     "name": "stdout",
     "output_type": "stream",
     "text": [
      "The original array is :  [1 2 3 4 5 6 7]\n",
      "The reversed array is :  [7 6 5 4 3 2 1]\n"
     ]
    }
   ],
   "source": [
    "#Write a Python program to reverse the order of the items in the array.\n",
    "import numpy as np\n",
    "length = 0\n",
    "l = [1,2,3,4,5,6,7]\n",
    "arrays = np.array(l)\n",
    "print(\"The original array is : \" ,arrays)\n",
    "length = arrays.itemsize\n",
    "#print(length)\n",
    "rev_arrays = arrays[::-1]\n",
    "print(\"The reversed array is : \" ,rev_arrays)"
   ]
  },
  {
   "cell_type": "code",
   "execution_count": 90,
   "metadata": {},
   "outputs": [
    {
     "name": "stdout",
     "output_type": "stream",
     "text": [
      "Number is present\n"
     ]
    }
   ],
   "source": [
    "# Write a Python program to get the number of occurrences of a specified element in an array.\n",
    "import numpy as np\n",
    "length = 0\n",
    "l = [1,2,3,4,5,6,7,8,9]\n",
    "arrays = np.array(l)\n",
    "number = 4\n",
    "count = 0\n",
    "for i in range(arrays.itemsize):\n",
    "    if(arrays[i] == 4):\n",
    "        count = count + 1\n",
    "    else :\n",
    "        count = count\n",
    "#print(count)\n",
    "if(count == 0):\n",
    "    print (\"Number is absent\")\n",
    "else :\n",
    "    print(\"Number is present\")"
   ]
  },
  {
   "cell_type": "code",
   "execution_count": null,
   "metadata": {},
   "outputs": [],
   "source": []
  },
  {
   "cell_type": "code",
   "execution_count": null,
   "metadata": {},
   "outputs": [],
   "source": []
  }
 ],
 "metadata": {
  "kernelspec": {
   "display_name": "Python 3",
   "language": "python",
   "name": "python3"
  },
  "language_info": {
   "codemirror_mode": {
    "name": "ipython",
    "version": 3
   },
   "file_extension": ".py",
   "mimetype": "text/x-python",
   "name": "python",
   "nbconvert_exporter": "python",
   "pygments_lexer": "ipython3",
   "version": "3.7.1"
  }
 },
 "nbformat": 4,
 "nbformat_minor": 2
}
