{
 "cells": [
  {
   "cell_type": "code",
   "execution_count": 1,
   "metadata": {},
   "outputs": [],
   "source": [
    "#With this code we will take some inputs from user and will print the data as per the input of the menu. Its a menu driven program.\n",
    "#Menu : 1.Palindrome number 2.Armstrong number 3.Odd or Even 4.Prime"
   ]
  },
  {
   "cell_type": "code",
   "execution_count": null,
   "metadata": {},
   "outputs": [],
   "source": [
    "num = int(input(\"Enter the number you want to perform operations on : \"))\n",
    "print(\"Menu for operations\")\n",
    "print(\"1.Palindrome Number\")\n",
    "print(\"2.Armstrong Number\")\n",
    "print(\"3.Odd or Even Number\")\n",
    "print(\"4.Prime Number\")\n",
    "\n",
    "n = int(input(\"Enter the number for the operation you want to perform : \"))\n",
    "#for palindrome :\n",
    "if(n == 1):\n",
    "    temp = num\n",
    "    rev = 0\n",
    "    while temp != 0:\n",
    "        rev = (rev * 10) + (temp % 10)\n",
    "        temp = temp // 10\n",
    "        \n",
    "    if (num == rev):\n",
    "        print(\"number is palindrome\")\n",
    "    else:\n",
    "        print(\"number is not palindrome\")\n",
    "\n",
    "#for armstrong\n",
    "\n",
    "if(n == 2):\n",
    "    length = len(str(num))\n",
    "    sum = 0\n",
    "    temp = num\n",
    " \n",
    "    while(temp != 0):\n",
    "        sum = sum + ((temp % 10) ** length)\n",
    "        temp = temp // 10\n",
    " \n",
    "    if (sum == num):\n",
    "        print(\"armstrong number\")\n",
    "    else:\n",
    "        print(\"not armstrong number\")\n",
    "        \n",
    "#for even or odd\n",
    "\n",
    "if(n == 3):\n",
    "    even = 0\n",
    "    odd = 0\n",
    "    if(num % 2 == 0):\n",
    "        print(\"The number is even\")    \n",
    "    else :\n",
    "        print(\"The number is odd\")\n",
    "\n",
    "#for prime number \n",
    "if(n == 4):\n",
    "    count = 0\n",
    "    for i in range(2, num):\n",
    "        if (num % i  == 0):\n",
    "            count = count + 1\n",
    "            \n",
    "        else :\n",
    "            count = count\n",
    "    if(count == 1):\n",
    "        print(\"The number is prime\")\n",
    "    else :\n",
    "        print(\"The number is not prime\")\n"
   ]
  },
  {
   "cell_type": "code",
   "execution_count": null,
   "metadata": {},
   "outputs": [],
   "source": []
  },
  {
   "cell_type": "code",
   "execution_count": null,
   "metadata": {},
   "outputs": [],
   "source": []
  }
 ],
 "metadata": {
  "kernelspec": {
   "display_name": "Python 3",
   "language": "python",
   "name": "python3"
  },
  "language_info": {
   "codemirror_mode": {
    "name": "ipython",
    "version": 3
   },
   "file_extension": ".py",
   "mimetype": "text/x-python",
   "name": "python",
   "nbconvert_exporter": "python",
   "pygments_lexer": "ipython3",
   "version": "3.7.1"
  }
 },
 "nbformat": 4,
 "nbformat_minor": 2
}
